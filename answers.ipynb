{
 "cells": [
  {
   "cell_type": "code",
   "execution_count": 76,
   "metadata": {},
   "outputs": [],
   "source": [
    "import networkx as nx\n",
    "from networkx.drawing.nx_agraph import graphviz_layout\n",
    "import matplotlib.pyplot as plt\n",
    "import numpy as np\n",
    "from scipy.optimize import minimize"
   ]
  },
  {
   "cell_type": "markdown",
   "metadata": {},
   "source": [
    "# Task 1"
   ]
  },
  {
   "cell_type": "markdown",
   "metadata": {},
   "source": [
    "## Part 1"
   ]
  },
  {
   "cell_type": "markdown",
   "metadata": {},
   "source": [
    "### 1."
   ]
  },
  {
   "cell_type": "markdown",
   "metadata": {},
   "source": [
    "#### a."
   ]
  },
  {
   "cell_type": "code",
   "execution_count": 58,
   "metadata": {},
   "outputs": [
    {
     "data": {
      "image/png": "[encoded data removed]",
      "text/plain": [
       "<Figure size 432x288 with 1 Axes>"
      ]
     },
     "metadata": {},
     "output_type": "display_data"
    }
   ],
   "source": [
    "G = nx.DiGraph()\n",
    "\n",
    "G.add_edges_from([\n",
    "    ('C', 'Q'),\n",
    "    ('W', 'Q'),\n",
    "    ('S', 'Q'),\n",
    "    ('C', 'W')\n",
    "])\n",
    "\n",
    "pos = graphviz_layout(G, prog='dot')\n",
    "nx.draw_networkx(G, node_color='cyan', pos=pos)"
   ]
  },
  {
   "cell_type": "markdown",
   "metadata": {},
   "source": [
    "#### b."
   ]
  },
  {
   "cell_type": "markdown",
   "metadata": {},
   "source": [
    "$$P(Q, W, S, C) \\propto P(Q | W, S, C) \\cdot P(W | C) \\cdot P(S) \\cdot P(C)$$"
   ]
  },
  {
   "cell_type": "markdown",
   "metadata": {},
   "source": [
    "### 2."
   ]
  },
  {
   "cell_type": "code",
   "execution_count": 59,
   "metadata": {},
   "outputs": [
    {
     "data": {
      "text/plain": [
       "<AxesSubplot:>"
      ]
     },
     "execution_count": 59,
     "metadata": {},
     "output_type": "execute_result"
    },
    {
     "data": {
      "image/png": "[encoded data removed]",
      "text/plain": [
       "<Figure size 432x288 with 1 Axes>"
      ]
     },
     "metadata": {
      "needs_background": "light"
     },
     "output_type": "display_data"
    }
   ],
   "source": [
    "import pandas as pd\n",
    "\n",
    "df_qc_train = pd.read_csv('QualityControlTraining.csv')\n",
    "df_qc_train.Wait_Time.hist(bins=20)"
   ]
  },
  {
   "cell_type": "markdown",
   "metadata": {},
   "source": [
    "The histogram for wait time is heavily skewed right"
   ]
  },
  {
   "cell_type": "code",
   "execution_count": 60,
   "metadata": {},
   "outputs": [
    {
     "data": {
      "text/plain": [
       "<AxesSubplot:>"
      ]
     },
     "execution_count": 60,
     "metadata": {},
     "output_type": "execute_result"
    },
    {
     "data": {
      "image/png": "[encoded data removed]",
      "text/plain": [
       "<Figure size 432x288 with 1 Axes>"
      ]
     },
     "metadata": {
      "needs_background": "light"
     },
     "output_type": "display_data"
    }
   ],
   "source": [
    "np.log(df_qc_train.Wait_Time).hist(bins=20)"
   ]
  },
  {
   "cell_type": "markdown",
   "metadata": {},
   "source": [
    "This histogram appears to be a mixture of two gaussians, where the first is centered around 2 with small variance and the second is centered around 3.5 with larger variance."
   ]
  },
  {
   "cell_type": "markdown",
   "metadata": {},
   "source": [
    "### 3."
   ]
  },
  {
   "cell_type": "code",
   "execution_count": 61,
   "metadata": {},
   "outputs": [
    {
     "data": {
      "text/plain": [
       "<matplotlib.legend.Legend at 0x119e8c6a0>"
      ]
     },
     "execution_count": 61,
     "metadata": {},
     "output_type": "execute_result"
    },
    {
     "data": {
      "image/png": "[encoded data removed]",
      "text/plain": [
       "<Figure size 432x288 with 1 Axes>"
      ]
     },
     "metadata": {
      "needs_background": "light"
     },
     "output_type": "display_data"
    }
   ],
   "source": [
    "lg_wait_time_nurse = np.log(df_qc_train[df_qc_train.Collection_Method == 'Nurse'].Wait_Time)\n",
    "lg_wait_time_patient = np.log(df_qc_train[df_qc_train.Collection_Method == 'Patient'].Wait_Time)\n",
    "\n",
    "bins = 20\n",
    "alpha = .75\n",
    "\n",
    "plt.hist(lg_wait_time_nurse, bins=bins, alpha=alpha)\n",
    "plt.hist(lg_wait_time_patient, bins=bins, alpha=alpha)\n",
    "plt.legend(['Nurse', 'Patient'])"
   ]
  },
  {
   "cell_type": "code",
   "execution_count": 62,
   "metadata": {},
   "outputs": [
    {
     "name": "stdout",
     "output_type": "stream",
     "text": [
      "Nurse stats: mean = 1.997, std = 0.519\n"
     ]
    }
   ],
   "source": [
    "mean, std = lg_wait_time_nurse.mean(), lg_wait_time_nurse.std()\n",
    "print(f'Nurse stats: mean = {mean:.3f}, std = {std:.3f}')"
   ]
  },
  {
   "cell_type": "markdown",
   "metadata": {},
   "source": [
    "### 4."
   ]
  },
  {
   "cell_type": "markdown",
   "metadata": {},
   "source": [
    "#### a.\n",
    "\n",
    "For each $C \\in \\{P, N\\}$,\n",
    "$$Q | C, W, S \\sim \\mathcal{N}(\\mu_C(W,S), \\sigma_C),$$\n",
    "where\n",
    "\\begin{align*}\n",
    "    \\mu_C(w, s) &= \\begin{bmatrix}1 & \\log(w) & s\\end{bmatrix}^\\top a_C & \\text{for some fixed } a_C &\\in \\mathbb{R}^3, \\\\\n",
    "    \\sigma_C &\\in \\mathbb{R} \\text{ is fixed}\n",
    "\\end{align*}"
   ]
  },
  {
   "cell_type": "markdown",
   "metadata": {},
   "source": [
    "#### b.\n",
    "\n",
    "$$P_{\\theta_P}(q_i, w_i, s_i, P) \\propto P_{\\theta_P}(q_i | w_i, s_i, P) \\cdot P_{\\theta_P}(w_i | P) \\cdot P_{\\theta_P}(s_i) \\cdot P_{\\theta_P}(P)$$"
   ]
  },
  {
   "cell_type": "markdown",
   "metadata": {},
   "source": [
    "#### c.\n",
    "\n",
    "\\begin{align*}\n",
    "P_{\\theta_P}(q_i, w_i, s_i, P) &\\propto P_{\\theta_P}(q_i | w_i, s_i, P) \\\\\n",
    "&\\propto \\frac{1}{\\sigma_P} \\exp\\left( -\\frac{1}{2\\sigma_P^2} \\left(q_i - \\begin{bmatrix}1 & \\log(w_i) & s_i\\end{bmatrix}^\\top a_P \\right)^2 \\right) \\\\\n",
    "\\Rightarrow \\theta^*_P &= \\underset{\\sigma_P, a_P}{\\arg\\max} \\; \\sigma_P^{-|I_P|} \\exp\\left( -\\frac{1}{2\\sigma_P^2} \\sum_{i\\in I_P}   \\left(q_i - \\begin{bmatrix}1 & \\log(w_i) & s_i\\end{bmatrix}^\\top a_P \\right)^2 \\right) \\\\\n",
    "&= \\underset{\\sigma_P, a_P}{\\arg\\min} \\; \\log \\sigma_P + \\frac{1}{2\\sigma_P^2} \\sum_{i\\in I_P}   \\left(q_i - \\begin{bmatrix}1 & \\log(w_i) & s_i\\end{bmatrix}^\\top a_P \\right)^2\n",
    "\\end{align*}"
   ]
  },
  {
   "cell_type": "code",
   "execution_count": 126,
   "metadata": {},
   "outputs": [
    {
     "data": {
      "text/plain": [
       "      fun: 4.552765997058457\n",
       " hess_inv: array([[ 1.44564491e+03, -7.53584311e+01,  6.02647597e+00,\n",
       "        -5.58442410e+00],\n",
       "       [-7.53584311e+01,  4.16913123e+02, -1.13325487e+01,\n",
       "         3.70114186e+01],\n",
       "       [ 6.02647597e+00, -1.13325487e+01,  3.71300204e+00,\n",
       "         3.36086604e-01],\n",
       "       [-5.58442410e+00,  3.70114186e+01,  3.36086604e-01,\n",
       "         3.85316206e+00]])\n",
       "      jac: array([-5.96046448e-08, -2.98023224e-07, -3.57627869e-07,  1.66893005e-06])\n",
       "  message: 'Optimization terminated successfully.'\n",
       "     nfev: 205\n",
       "      nit: 39\n",
       "     njev: 41\n",
       "   status: 0\n",
       "  success: True\n",
       "        x: array([57.55636657, -9.09228035, -1.91580732, -2.06586948])"
      ]
     },
     "execution_count": 126,
     "metadata": {},
     "output_type": "execute_result"
    }
   ],
   "source": [
    "df_qc_train_patient = df_qc_train[df_qc_train.Collection_Method == 'Patient']\n",
    "\n",
    "q = df_qc_train_patient.Quality_Score\n",
    "z = np.stack([\n",
    "        np.ones(len(q)), \n",
    "        np.log(df_qc_train_patient.Wait_Time), \n",
    "        df_qc_train_patient.Storage_Temperature\n",
    "    ], \n",
    "    axis=1)\n",
    "\n",
    "def f(x):\n",
    "    sigma = x[0]\n",
    "    a = x[1:]\n",
    "\n",
    "    return np.log(sigma) + ((q - z@a)**2).sum() / (2*sigma**2)\n",
    "\n",
    "\n",
    "minimize(f, x0=[10,1,1,1])"
   ]
  },
  {
   "cell_type": "code",
   "execution_count": null,
   "metadata": {},
   "outputs": [],
   "source": []
  }
 ],
 "metadata": {
  "kernelspec": {
   "display_name": "Python 3.9.10 ('archienv')",
   "language": "python",
   "name": "python3"
  },
  "language_info": {
   "codemirror_mode": {
    "name": "ipython",
    "version": 3
   },
   "file_extension": ".py",
   "mimetype": "text/x-python",
   "name": "python",
   "nbconvert_exporter": "python",
   "pygments_lexer": "ipython3",
   "version": "3.9.10"
  },
  "orig_nbformat": 4,
  "vscode": {
   "interpreter": {
    "hash": "868d701682088d1128cad788f3b783d362f359ccbd74a171330d82ee9fcc2b54"
   }
  }
 },
 "nbformat": 4,
 "nbformat_minor": 2
}
